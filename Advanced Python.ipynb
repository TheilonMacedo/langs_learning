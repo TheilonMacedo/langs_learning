{
 "cells": [
  {
   "cell_type": "markdown",
   "metadata": {},
   "source": [
    "## Advanced Python - Notes"
   ]
  },
  {
   "cell_type": "markdown",
   "metadata": {},
   "source": [
    "### The Python Data Model\n",
    "The Python Data Model allows the consistency of the language. It can be seen as framework which formalizes the interfaces of the building blocks of Python. In other words, it is a collection of interfaces that define how Python built-in behaviors and operations should interact with objects (through dunder nethods).  \n",
    "When we code in Python, the interpreter invokes special methods to perform basic object operations based on a special syntax (`__some_method__`).  \n",
    "When custom methods implement special (dunder) methods, they can behave as built-in types. This is achieved thanks to operator overloading.  \n",
    "  \n",
    "All data in a Python program can be repesented by objects or relations between objects. In other words, data is encapsulated within objects in Python. An object is a collection of data and methods that act on the data. This allows for a higher abstraction level, where the use can focus on the operations that can be performed with such objects rather than the internall implementation of data. These objects can interact with each other in various manners, such as passing messages or invoking methods. Python also treat code as objects. This is a important feature of high level languages when we think in a functional manner, because in this model functions can be treated as just another object for example.  \n",
    "  \n",
    "Each object in Python has and identity, a type and a value. It is important to note that a object identity never changes once it has been created. This identity can be tought as the memory adress of the object. In this scenario, the `is` operator is the way to compare the identity of two objects.  \n",
    "\n",
    "### ID\n",
    "The `id` fuction returns the memory adress of a object and is unchangeable. Despite being a general information about every Python object, the *id* sometime is obtained through some optimizations, as listed bellow:  "
   ]
  },
  {
   "cell_type": "code",
   "execution_count": 21,
   "metadata": {},
   "outputs": [
    {
     "name": "stdout",
     "output_type": "stream",
     "text": [
      "139683335127408\n",
      "139683335127312\n",
      "139683335127312\n",
      "False\n",
      "True\n"
     ]
    }
   ],
   "source": [
    "first_value = 5\n",
    "print(id(first_value))\n",
    "\n",
    "second_value = 2\n",
    "print(id(second_value))\n",
    "\n",
    "third_value = 2\n",
    "print(id(third_value))\n",
    "\n",
    "print(first_value is second_value)\n",
    "print(second_value is third_value)"
   ]
  },
  {
   "cell_type": "markdown",
   "metadata": {},
   "source": [
    "The pattern observed above only refers to numbers between -5 and 256. This is because Python stores small integers in a cache due to performance reasons. In those cases, Python pre-allocates the integer objects created and reuses them as a atempt to save memory.  \n",
    "So when we created two variables with the same value, Python uses the pre-allocated value, so these two variables point to the same object in memory.  \n",
    "  \n",
    "For integers outside this range, Python then allocates new objects each time that these variables are created with the refered value.  "
   ]
  },
  {
   "cell_type": "code",
   "execution_count": 2,
   "metadata": {},
   "outputs": [
    {
     "name": "stdout",
     "output_type": "stream",
     "text": [
      "2817949078032\n",
      "2817949078064\n",
      "2817949077968\n",
      "2817949078352\n",
      "False\n",
      "False\n"
     ]
    }
   ],
   "source": [
    "first_value = 257\n",
    "print(id(first_value))\n",
    "\n",
    "second_value = 257\n",
    "print(id(second_value))\n",
    "\n",
    "third_value = -6\n",
    "print(id(third_value))\n",
    "\n",
    "fourth_value = -6\n",
    "print(id(fourth_value))\n",
    "\n",
    "print(first_value is second_value)\n",
    "print(third_value is fourth_value)"
   ]
  },
  {
   "cell_type": "code",
   "execution_count": 4,
   "metadata": {},
   "outputs": [
    {
     "name": "stdout",
     "output_type": "stream",
     "text": [
      "140734695319960\n",
      "140734695319960\n",
      "140734695311608\n",
      "140734695311608\n",
      "True\n",
      "True\n"
     ]
    }
   ],
   "source": [
    "first_value = 256\n",
    "print(id(first_value))\n",
    "\n",
    "second_value = 256\n",
    "print(id(second_value))\n",
    "\n",
    "third_value = -5\n",
    "print(id(third_value))\n",
    "\n",
    "fourth_value = -5\n",
    "print(id(fourth_value))\n",
    "\n",
    "print(first_value is second_value)\n",
    "print(third_value is fourth_value)"
   ]
  },
  {
   "cell_type": "markdown",
   "metadata": {},
   "source": [
    "This behavior extend in certain level to strings and do not is extended to floats."
   ]
  },
  {
   "cell_type": "code",
   "execution_count": 7,
   "metadata": {},
   "outputs": [
    {
     "name": "stdout",
     "output_type": "stream",
     "text": [
      "2817949077392\n",
      "2817949077360\n",
      "2817949076880\n",
      "2817949077328\n",
      "False\n",
      "False\n"
     ]
    }
   ],
   "source": [
    "first_value = 2.56\n",
    "print(id(first_value))\n",
    "\n",
    "second_value = 2.56\n",
    "print(id(second_value))\n",
    "\n",
    "third_value = -5.0\n",
    "print(id(third_value))\n",
    "\n",
    "fourth_value = -5.0\n",
    "print(id(fourth_value))\n",
    "\n",
    "print(first_value is second_value)\n",
    "print(third_value is fourth_value)"
   ]
  },
  {
   "cell_type": "code",
   "execution_count": 11,
   "metadata": {},
   "outputs": [
    {
     "name": "stdout",
     "output_type": "stream",
     "text": [
      "140002182303664\n",
      "140002182303664\n",
      "140002182303280\n",
      "140002182307952\n",
      "True\n",
      "False\n"
     ]
    }
   ],
   "source": [
    "first_value = \"Hello_world\"\n",
    "print(id(first_value))\n",
    "\n",
    "second_value = \"Hello_world\"\n",
    "print(id(second_value))\n",
    "\n",
    "third_value = \"Hello, world!\"\n",
    "print(id(third_value))\n",
    "\n",
    "fourth_value = \"Hello, world!\"\n",
    "print(id(fourth_value))\n",
    "\n",
    "print(first_value is second_value)\n",
    "print(third_value is fourth_value)"
   ]
  },
  {
   "cell_type": "markdown",
   "metadata": {},
   "source": [
    "For strings, Python performs string interning selectively. This means that string literals that look like identifiers are often interned automatically.  \n",
    "Interning is a type of caching that is applied to specific object instances and refers to Python reusing the string object instead of creating a new one every time we use the same string literal.  \n",
    "  \n",
    "\n",
    "Python can perform some optimizations with immutables objects that seems the same interning performed with integers and strings, but that actually are compilers optimizations where the interpreter understands that some immutables objects are the same if they appear in different places in the code.  "
   ]
  },
  {
   "cell_type": "code",
   "execution_count": 26,
   "metadata": {},
   "outputs": [
    {
     "name": "stdout",
     "output_type": "stream",
     "text": [
      "140002182175680\n",
      "140002182110016\n",
      "140002182123072\n",
      "140002182124416\n",
      "False\n",
      "False\n",
      "a is b? The answer is: True\n"
     ]
    }
   ],
   "source": [
    "first_value = (1, 2, 3)\n",
    "print(id(first_value))\n",
    "\n",
    "second_value = (1, 2, 3)\n",
    "print(id(second_value))\n",
    "\n",
    "third_value = {1, 2, 3}\n",
    "print(id(third_value))\n",
    "\n",
    "fourth_value = {1, 2, 3}\n",
    "print(id(fourth_value))\n",
    "\n",
    "print(first_value is second_value)\n",
    "print(third_value is fourth_value)\n",
    "\n",
    "\n",
    "# Optimizations occurs here:\n",
    "def test_id():\n",
    "    a = (1, 2, 3)\n",
    "    b = (1, 2, 3)\n",
    "    print(f\"a is b? The answer is: {a is b}\")\n",
    "\n",
    "\n",
    "test_id()"
   ]
  },
  {
   "cell_type": "markdown",
   "metadata": {},
   "source": [
    "The above optimization occurs only in the function namespace due to its restrictive nature. The function namespace is a confined and well-defined scope of code analysis. Therefore allowing the compiler to make some optimizations more aggressive when compared to its application at the global namespace (more unpredictable and dynamic).  \n",
    "\n",
    "The *id* function has some uses that are related to scenarios where the the managment of objects identities are necessary. This situations in general involves identifying duplicates, performing caching/memoizantion and implementing low-level optimizations. Although it has its uses, the *id* function is rarely applied in Python and has some specific use cases where it can be positively applied."
   ]
  },
  {
   "cell_type": "markdown",
   "metadata": {},
   "source": [
    "### Type  \n",
    "The object's type defines which operations can be applied to the object. It also defines the possible values that object of the referd type can have. The `type()` fucntion returns the type of a object."
   ]
  },
  {
   "cell_type": "code",
   "execution_count": 2,
   "metadata": {},
   "outputs": [
    {
     "name": "stdout",
     "output_type": "stream",
     "text": [
      "<class 'int'>\n",
      "<class 'list'>\n",
      "<class 'type'>\n"
     ]
    }
   ],
   "source": [
    "a = 5\n",
    "print(type(a))\n",
    "b = [1, 2, 3]\n",
    "print(type(b))\n",
    "print(type(type))"
   ]
  },
  {
   "cell_type": "markdown",
   "metadata": {},
   "source": [
    "The `type` object is a metaclass in Python. In this sense, `type` is an instace of itself, which forms a recursive loop and can also be considered the foundational class of the Python language, because it its the class which all other classes are derived from, directly or indirectly.  \n",
    "This self-referential characteristic of the `type` metaclass is what allow it to act as a base for all classes. Python allow us to create metaclasses for our classes. These metaclasses are also derived from the `type` class."
   ]
  },
  {
   "cell_type": "markdown",
   "metadata": {},
   "source": [
    "### Value\n",
    "The value of a object can change or not. This capabilitie defines if a object is mutable or immutable. But immutability is a tricky concept because a immutable object can have a reference to a mutable one. So, in this scenario, the value of a immutable object `can change` when the mutable object its referes to change. In this sense immutability is different from having a unchangeable value. Altough, the `id` of the object do not tend to change, at least in general."
   ]
  },
  {
   "cell_type": "code",
   "execution_count": 59,
   "metadata": {},
   "outputs": [
    {
     "name": "stdout",
     "output_type": "stream",
     "text": [
      "(1, 2, [1, 2, 256])\n",
      "8893480\n",
      "140518044983424\n",
      "140518044832640\n",
      "(1, 2, [1, 2, (5545, 'my tuple')])\n",
      "140518079995392\n",
      "140518044983424\n",
      "140518044832640\n"
     ]
    }
   ],
   "source": [
    "num = 256\n",
    "lst = [1, 2, num]\n",
    "tpl = (1, 2, lst)\n",
    "print(tpl)\n",
    "print(id(num))\n",
    "print(id(lst))\n",
    "print(id(tpl))\n",
    "num = (5545, \"my tuple\")\n",
    "lst[2] = num\n",
    "print(tpl)\n",
    "print(id(num))\n",
    "print(id(lst))\n",
    "print(id(tpl))"
   ]
  },
  {
   "cell_type": "markdown",
   "metadata": {},
   "source": [
    "In the above code, the `id`s of lst and tpl did not changed because when a object is created in Python its id remains the same even after altering the value it is refering to.  \n",
    "One other important thing is that, for immutable types, operations that compute a new value may actually return a reference to any existing object `a = 1; b = 1` where a and b may referes to the same object, but in `c = []; d = []` is guaranteed that c and d refers to different objects.  "
   ]
  },
  {
   "cell_type": "markdown",
   "metadata": {},
   "source": [
    "### Data Structures\n",
    "The built-in Python sequences can be summarized as Container Sequences and Flat Sequences. The difference between these two is that the first one can hold items of different types while the former only can hold values that are from the same type.  \n",
    "In general, Flat Sequences are more compact altough they have the limitation to only holding primitive types.  \n",
    "Every python object has a metadata header with at least three fields:   \n",
    "- on_refcnt   \n",
    "- ob_type   \n",
    "- ob_val  \n",
    " \n",
    "And each one of these fields take 8 bytes. For this reason a array is more compact than a tuple, for example: the array is a single object holding the raw values of its items while the tuple consists of several objects (the tuple itself and each object contained in it).\n"
   ]
  },
  {
   "cell_type": "code",
   "execution_count": 9,
   "metadata": {},
   "outputs": [
    {
     "name": "stdout",
     "output_type": "stream",
     "text": [
      "  0           0 RESUME                   0\n",
      "\n",
      "  1           2 PUSH_NULL\n",
      "              4 LOAD_NAME                0 (tuple)\n",
      "              6 BUILD_LIST               0\n",
      "              8 LOAD_CONST               0 ((1.5, 2.1, 3.8))\n",
      "             10 LIST_EXTEND              1\n",
      "             12 CALL                     1\n",
      "             20 POP_TOP\n",
      "             22 RETURN_CONST             1 (None)\n",
      "getsizeof: 64\n",
      "asizeof: 136\n",
      "__________________________________________________\n",
      "                                                  \n",
      "  0           0 RESUME                   0\n",
      "\n",
      "  1           2 LOAD_NAME                0 (array)\n",
      "              4 LOAD_ATTR                1 (NULL|self + array)\n",
      "             24 LOAD_CONST               0 ('d')\n",
      "             26 BUILD_LIST               0\n",
      "             28 LOAD_CONST               1 ((1.5, 2.1, 3.8))\n",
      "             30 LIST_EXTEND              1\n",
      "             32 CALL                     2\n",
      "             40 POP_TOP\n",
      "             42 RETURN_CONST             2 (None)\n",
      "getsizeof: 104\n",
      "asizeof: 104\n"
     ]
    }
   ],
   "source": [
    "# https://stackoverflow.com/questions/68630/are-tuples-more-efficient-than-lists-in-python\n",
    "import dis\n",
    "import sys\n",
    "import array\n",
    "from pympler import asizeof\n",
    "\n",
    "tpl = compile(\"tuple([1.5, 2.1, 3.8])\", \"\", \"exec\")\n",
    "dis.dis(tpl)\n",
    "print(f\"getsizeof: {sys.getsizeof(tuple([1.5, 2.1, 3.8]))}\")\n",
    "print(f\"asizeof: {asizeof.asizeof(tuple([1.5, 2.1, 3.8]))}\")\n",
    "\n",
    "print(50 * \"_\")\n",
    "print(50 * \" \")\n",
    "\n",
    "arr = compile('array.array(\"d\", [1.5, 2.1, 3.8])', \"\", \"exec\")\n",
    "dis.dis(arr)\n",
    "print(f'getsizeof: {sys.getsizeof(array.array(\"d\", [1.5, 2.1, 3.8]))}')\n",
    "print(f'asizeof: {asizeof.asizeof(array.array(\"d\", [1.5, 2.1, 3.8]))}')"
   ]
  },
  {
   "cell_type": "markdown",
   "metadata": {},
   "source": [
    "In the above code we used two ways of calculating the size of a python object. `getsizeof` returns the size of the object passed to it only whereas `asizeof` returns the size of the object passed to it but also the objects referenced within the complex object instance.   \n",
    "In general, `getsizeof` only reports the raw memory allocated (header and its immediate contents) for the list's data and it is based on the interpreter's internal calculations.  \n",
    "`asizeof` does that by recursively adding up the sizes of all objects after traversing the object contents and examining the object attributes. `asizeof` also avoids calculating the size of the same object twice, in the case of this object be referenced more than once, by keeping tracking of the objcets IDs that it already visited by using a `set` or something a similar mechanism that allow it to recognize already-measured objects. It is important to note that it uses `getsizeof` to measure the size of the objects encountered and also take account of the extra space allocated by containers objects since some Pyuthon objects have over-allocation to amortized append operations, furthermore it also is capable of detecting shared objects, such as objects that are instances of classes with `__slots__` or some interned objects like strings. Although very usefgul, `asizeof` returns the estimated size of the objects plus all of it referents (_referents_ are objects acessible from the parent object according tho the traversal of its attributes and contents).  \n",
    "In summary, `asizeof` does the following:  \n",
    "1 - Indentify the object type;  \n",
    "2 - Consult a pre-defined table with estimated base sizes for different object types;  \n",
    "3 - Evaluate the content and (a) if applicable, recursively iterate through the object contents or/and (b) for each element, repeat the steps 1-3 to estimate the size and accumulate it to the total;  \n",
    "4 - Keeps track of objects by analyzing internal references within the parent objects and adds the contribution for referenced objects (avoidind double counting);  \n",
    "5 - Apply additional estimations for header infos and garbage collection, while avoiding double counting;  \n",
    "6 - Returns the summed up size of the traversed object.   "
   ]
  },
  {
   "cell_type": "markdown",
   "metadata": {},
   "source": [
    "#### Local Scope in Lists Comprehensions and Generators Expressions\n",
    "List comprehensions and its siblings have a local scope to hold the variables assigned in the `for` clause."
   ]
  },
  {
   "cell_type": "code",
   "execution_count": 5,
   "metadata": {},
   "outputs": [
    {
     "name": "stdout",
     "output_type": "stream",
     "text": [
      "[65, 66, 67]\n",
      "67\n",
      "[65, 66, 67]\n"
     ]
    }
   ],
   "source": [
    "x = \"ABC\"\n",
    "codes = [ord(j) for j in x]\n",
    "# print(j) Error\n",
    "print(codes)\n",
    "\n",
    "codes = [last := ord(i) for i in x]\n",
    "print(last)\n",
    "print(codes)\n",
    "# print(i) Error"
   ]
  }
 ],
 "metadata": {
  "kernelspec": {
   "display_name": "base",
   "language": "python",
   "name": "python3"
  },
  "language_info": {
   "codemirror_mode": {
    "name": "ipython",
    "version": 3
   },
   "file_extension": ".py",
   "mimetype": "text/x-python",
   "name": "python",
   "nbconvert_exporter": "python",
   "pygments_lexer": "ipython3",
   "version": "3.12.1"
  },
  "orig_nbformat": 4
 },
 "nbformat": 4,
 "nbformat_minor": 2
}
