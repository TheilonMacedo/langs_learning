{
 "cells": [
  {
   "cell_type": "code",
   "execution_count": 6,
   "metadata": {},
   "outputs": [
    {
     "name": "stdout",
     "output_type": "stream",
     "text": [
      "  0           0 RESUME                   0\n",
      "\n",
      "  1           2 BUILD_LIST               0\n",
      "              4 LOAD_CONST               0 ((5, 2, 3))\n",
      "              6 LIST_EXTEND              1\n",
      "              8 STORE_NAME               0 (lst)\n",
      "             10 LOAD_CONST               1 (None)\n",
      "             12 RETURN_VALUE\n"
     ]
    }
   ],
   "source": [
    "import dis\n",
    "\n",
    "lst = compile(\"lst = [5, 2, 3]\", \"\", \"exec\")\n",
    "dis.dis(lst)"
   ]
  },
  {
   "cell_type": "code",
   "execution_count": 7,
   "metadata": {},
   "outputs": [
    {
     "name": "stdout",
     "output_type": "stream",
     "text": [
      "  0           0 RESUME                   0\n",
      "\n",
      "  1           2 LOAD_CONST               0 ((5, 2, 3))\n",
      "              4 STORE_NAME               0 (tpl)\n",
      "              6 LOAD_CONST               1 (None)\n",
      "              8 RETURN_VALUE\n"
     ]
    }
   ],
   "source": [
    "tpl = compile(\"tpl = (5, 2, 3)\", \"\", \"exec\")\n",
    "dis.dis(tpl)"
   ]
  }
 ],
 "metadata": {
  "kernelspec": {
   "display_name": "base",
   "language": "python",
   "name": "python3"
  },
  "language_info": {
   "codemirror_mode": {
    "name": "ipython",
    "version": 3
   },
   "file_extension": ".py",
   "mimetype": "text/x-python",
   "name": "python",
   "nbconvert_exporter": "python",
   "pygments_lexer": "ipython3",
   "version": "3.11.5"
  }
 },
 "nbformat": 4,
 "nbformat_minor": 2
}
